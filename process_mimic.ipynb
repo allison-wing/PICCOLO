{
 "cells": [
  {
   "cell_type": "markdown",
   "metadata": {},
   "source": [
    "# Process MIMIC-TPW data\n",
    "- add time coordinate by extracting from filename\n",
    "- concatenate into single dataset\n",
    "- add lat/lon coordinates\n",
    "- restrict to tropical Atlantic\n",
    "- re-save reduced single dataset into new netcdf file"
   ]
  },
  {
   "cell_type": "code",
   "execution_count": 1,
   "metadata": {},
   "outputs": [],
   "source": [
    "import xarray as xr\n",
    "import numpy as np\n",
    "import matplotlib.pyplot as plt\n",
    "from matplotlib import rc, colors, ticker\n",
    "import matplotlib.dates as mdates\n",
    "from scipy.interpolate import interp2d, RectBivariateSpline\n",
    "from datetime import datetime, timedelta\n",
    "import pandas as pd\n",
    "import cftime\n",
    "import seaborn as sns\n",
    "import json\n",
    "from matplotlib import rc\n",
    "import glob\n",
    "import os\n",
    "from thermo_functions import *\n",
    "from time_series_diag import *\n",
    "from bowtie_read_data import *"
   ]
  },
  {
   "cell_type": "code",
   "execution_count": null,
   "metadata": {},
   "outputs": [],
   "source": [
    "# Load MIMIC-TPW data\n",
    "file_paths08 = glob.glob(\"/huracan/tank1/work/ORCESTRA/mimic-tpw/202408/*.nc\")\n",
    "file_paths09 = glob.glob(\"/huracan/tank1/work/ORCESTRA/mimic-tpw/202409/*.nc\")\n",
    "\n",
    "file_paths = file_paths08 + file_paths09\n",
    "\n",
    "#Parse the filename to extract the date and time information\n",
    "times= [pd.to_datetime(os.path.basename(fp)[4:12] + os.path.basename(fp)[13:15], format='%Y%m%d%H') for fp in file_paths]\n",
    "\n",
    "#Open the files and assign time coordinates\n",
    "datasets = [xr.open_dataset(fp).assign_coords(time=time) for fp, time in zip(file_paths, times)]\n",
    "\n",
    "#Combine into a single dataset and fix coordinates\n",
    "ds = xr.concat(datasets, dim='time')\n",
    "ds_reordered = ds.sortby('time')\n",
    "lonDim = ds_reordered.isel(time=0).lonArr.values\n",
    "latDim = ds_reordered.isel(time=0).latArr.values\n",
    "ds_reordered = ds_reordered.assign_coords(lon=lonDim)\n",
    "ds_reordered = ds_reordered.assign_coords(lat=latDim)\n",
    "mimic = ds_reordered.sel(lat=slice(-10,50), lon=slice(-90,60))\n",
    "mimic_reduced = mimic.drop_vars(['tpwGridPrior','tpwGridSubseq','timeAwayGridPrior','timeAwayGridSubseq','footGridPrior','footGridSubseq','satGridPrior','satGridSubseq'])\n",
    "\n",
    "#Write out to new netcdf file\n",
    "mimic_reduced.to_netcdf('/huracan/tank1/work/ORCESTRA/mimic-tpw/mimic_tpw_20240809.nc')"
   ]
  }
 ],
 "metadata": {
  "kernelspec": {
   "display_name": "awing",
   "language": "python",
   "name": "python3"
  },
  "language_info": {
   "codemirror_mode": {
    "name": "ipython",
    "version": 3
   },
   "file_extension": ".py",
   "mimetype": "text/x-python",
   "name": "python",
   "nbconvert_exporter": "python",
   "pygments_lexer": "ipython3",
   "version": "3.12.4"
  }
 },
 "nbformat": 4,
 "nbformat_minor": 2
}
