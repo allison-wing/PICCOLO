{
 "cells": [
  {
   "cell_type": "markdown",
   "metadata": {},
   "source": [
    "# Example: Using QTrack to tracking AEWs in reanalysis data\n",
    "\n",
    "This example will demonstrate the basic functions of AEW tracking from the Qtrack module. In order to track AEWs, we must proceed through a few steps:\n",
    "\n",
    "1. Download or location data for tracking. Data requirments: 700hPa wind (u and v component), 6 hourly timesteps, 1 degree by 1 degree resolution. \n",
    "2. `prep_data` function to prep the input data for tracking. \n",
    "4. `curvvort` Compute the curvature vorticity from the wind fields, and then take radial averages at each gridpoint to smooth it. \n",
    "5. `tracking` Run the AEW tracking code. \n",
    "6. `postproc` Run postprocessing on AEW data, including the creation of a netCDF4 file. "
   ]
  },
  {
   "cell_type": "code",
   "execution_count": 1,
   "metadata": {},
   "outputs": [],
   "source": [
    "import qtrack\n",
    "from qtrack.curvvort import compute_curvvort\n",
    "from qtrack.tracking import run_postprocessing, run_tracking"
   ]
  },
  {
   "cell_type": "markdown",
   "metadata": {},
   "source": [
    "### Download Example ERA5 data from 2010\n",
    "The following helper script will obtain example data to test the tracker on. Available datasets include:\n",
    "- \"era5_2010\" ERA5 wind data from the 2010 AEW season.\n",
    "- \"era5_2010_10day\" A compressed 10 day period in September of 2010 (for a quicker running example) "
   ]
  },
  {
   "cell_type": "code",
   "execution_count": 2,
   "metadata": {},
   "outputs": [
    {
     "name": "stdout",
     "output_type": "stream",
     "text": [
      "Downloading ERA5 Test case to: era5_700_wind_global_2010_10day.nc\n"
     ]
    },
    {
     "name": "stderr",
     "output_type": "stream",
     "text": [
      "Downloading...\n",
      "From: https://drive.google.com/uc?id=1apXQ-Uut9A5-GuM-py-unWpuXoRvlvYk\n",
      "To: /Users/awing/Dropbox/ORCESTRA/code/AEWtracking/era5_700_wind_global_2010_10day.nc\n",
      "100%|██████████| 9.39M/9.39M [00:00<00:00, 82.9MB/s]"
     ]
    },
    {
     "name": "stdout",
     "output_type": "stream",
     "text": [
      "Downloaded Successfully.\n"
     ]
    },
    {
     "name": "stderr",
     "output_type": "stream",
     "text": [
      "\n"
     ]
    }
   ],
   "source": [
    "qtrack.download_examples(\"era5_2010_10day\", \"\")"
   ]
  },
  {
   "cell_type": "markdown",
   "metadata": {},
   "source": [
    "### Prep data "
   ]
  },
  {
   "cell_type": "code",
   "execution_count": 3,
   "metadata": {},
   "outputs": [
    {
     "name": "stdout",
     "output_type": "stream",
     "text": [
      "Prepped data saved to: adjusted_data.nc\n"
     ]
    }
   ],
   "source": [
    "prepped_data_save = \"adjusted_data.nc\"\n",
    "qtrack.prep_data(data_in=\"era5_700_wind_global_2010_10day.nc\", data_out=prepped_data_save, cut_lev_val=70000)\n",
    "# qtrack.prep_data"
   ]
  },
  {
   "cell_type": "markdown",
   "metadata": {},
   "source": [
    "### Curvature vorticity calculation"
   ]
  },
  {
   "cell_type": "code",
   "execution_count": 4,
   "metadata": {},
   "outputs": [
    {
     "name": "stdout",
     "output_type": "stream",
     "text": [
      "Starting Computation of Radial Averaged CV...\n",
      "Timestep number: 0\n",
      "Timestep number: 1\n",
      "Timestep number: 2\n",
      "Timestep number: 3\n",
      "Timestep number: 4\n",
      "Timestep number: 5\n",
      "Timestep number: 6\n",
      "Timestep number: 7\n",
      "Timestep number: 8\n",
      "Timestep number: 9\n",
      "Timestep number: 10\n",
      "Timestep number: 11\n",
      "Timestep number: 12\n",
      "Timestep number: 13\n",
      "Timestep number: 14\n",
      "Timestep number: 15\n",
      "Timestep number: 16\n",
      "Timestep number: 17\n",
      "Timestep number: 18\n",
      "Timestep number: 19\n",
      "Timestep number: 20\n",
      "Timestep number: 21\n",
      "Timestep number: 22\n",
      "Timestep number: 23\n",
      "Timestep number: 24\n",
      "Timestep number: 25\n",
      "Timestep number: 26\n",
      "Timestep number: 27\n",
      "Timestep number: 28\n",
      "Timestep number: 29\n",
      "Timestep number: 30\n",
      "Timestep number: 31\n",
      "Timestep number: 32\n",
      "Timestep number: 33\n",
      "Timestep number: 34\n",
      "Timestep number: 35\n",
      "Time to run computation: 85.46798706054688\n"
     ]
    }
   ],
   "source": [
    "data_file_in = \"adjusted_data.nc\"\n",
    "curv_file_out = \"curv_vort_era5_test.nc\"\n",
    "compute_curvvort(data_file_in, curv_file_out, njobs_in=-1)"
   ]
  },
  {
   "cell_type": "markdown",
   "metadata": {},
   "source": [
    "### AEW Tracking step"
   ]
  },
  {
   "cell_type": "code",
   "execution_count": 5,
   "metadata": {},
   "outputs": [
    {
     "name": "stdout",
     "output_type": "stream",
     "text": [
      "1 out of 36\n",
      "2 out of 36\n",
      "3 out of 36\n",
      "4 out of 36\n",
      "5 out of 36\n",
      "6 out of 36\n",
      "7 out of 36\n",
      "8 out of 36\n",
      "9 out of 36\n",
      "10 out of 36\n",
      "11 out of 36\n",
      "12 out of 36\n",
      "13 out of 36\n",
      "14 out of 36\n",
      "15 out of 36\n",
      "16 out of 36\n",
      "17 out of 36\n",
      "18 out of 36\n",
      "19 out of 36\n",
      "20 out of 36\n",
      "21 out of 36\n",
      "22 out of 36\n",
      "23 out of 36\n",
      "24 out of 36\n",
      "25 out of 36\n",
      "26 out of 36\n",
      "27 out of 36\n",
      "28 out of 36\n",
      "29 out of 36\n",
      "30 out of 36\n",
      "31 out of 36\n",
      "32 out of 36\n",
      "33 out of 36\n",
      "34 out of 36\n",
      "35 out of 36\n",
      "36 out of 36\n"
     ]
    }
   ],
   "source": [
    "AEW_raw_save_file = \"AEW_tracks_raw.nc\"\n",
    "run_tracking(input_file=curv_file_out, save_file=AEW_raw_save_file)"
   ]
  },
  {
   "cell_type": "markdown",
   "metadata": {},
   "source": [
    "### AEW Postprocessing step"
   ]
  },
  {
   "cell_type": "code",
   "execution_count": 6,
   "metadata": {},
   "outputs": [
    {
     "name": "stdout",
     "output_type": "stream",
     "text": [
      "Saved\n"
     ]
    }
   ],
   "source": [
    "AEW_final_nc_file = \"AEW_tracks_post_processed.nc\"\n",
    "AEW_final_obj_file = \"AEW_tracks_post_processed.pkl\"\n",
    "year_in = 2010\n",
    "run_postprocessing(input_file=AEW_raw_save_file, real_year_used=year_in, curv_data_file=curv_file_out, save_obj_file=AEW_final_obj_file, save_nc_file=AEW_final_nc_file)"
   ]
  },
  {
   "cell_type": "markdown",
   "metadata": {},
   "source": [
    "## Done! A diagram should have been saved as \"final_hovmoller.png\""
   ]
  },
  {
   "cell_type": "code",
   "execution_count": null,
   "metadata": {},
   "outputs": [],
   "source": []
  }
 ],
 "metadata": {
  "kernelspec": {
   "display_name": "awing",
   "language": "python",
   "name": "python3"
  },
  "language_info": {
   "codemirror_mode": {
    "name": "ipython",
    "version": 3
   },
   "file_extension": ".py",
   "mimetype": "text/x-python",
   "name": "python",
   "nbconvert_exporter": "python",
   "pygments_lexer": "ipython3",
   "version": "3.12.4"
  }
 },
 "nbformat": 4,
 "nbformat_minor": 4
}
